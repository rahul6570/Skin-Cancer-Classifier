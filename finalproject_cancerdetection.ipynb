{
  "nbformat": 4,
  "nbformat_minor": 0,
  "metadata": {
    "colab": {
      "provenance": []
    },
    "kernelspec": {
      "name": "python3",
      "display_name": "Python 3"
    },
    "language_info": {
      "name": "python"
    }
  },
  "cells": [
    {
      "cell_type": "code",
      "execution_count": 8,
      "metadata": {
        "id": "S5tYoB9lcyP5"
      },
      "outputs": [],
      "source": [
        "import cv2\n",
        "import os\n",
        "import numpy as np\n",
        "from skimage.feature import hog\n",
        "from skimage import exposure\n",
        "\n",
        "# Define HOG parameters\n",
        "orientations = 9\n",
        "pixels_per_cell = (8, 8)\n",
        "cells_per_block = (2, 2)\n",
        "\n",
        "# Define function to extract HOG features\n",
        "from skimage.feature import greycomatrix, greycoprops\n",
        "from skimage.filters import gabor_kernel\n",
        "\n",
        "\n",
        "# Define HOG parameters\n",
        "orientations = 9\n",
        "pixels_per_cell = (8, 8)\n",
        "cells_per_block = (2, 2)\n",
        "\n",
        "# Define function to extract HOG features\n",
        "def extract_features(image):\n",
        "    \"\"\"\n",
        "    Extracts HOG features from the given image\n",
        "    \"\"\"\n",
        "    # Convert image to grayscale\n",
        "    gray_image = cv2.cvtColor(image, cv2.COLOR_RGB2GRAY)\n",
        "\n",
        "    # Calculate gradient images in x and y directions\n",
        "    gx = cv2.Sobel(gray_image, cv2.CV_32F, 1, 0)\n",
        "    gy = cv2.Sobel(gray_image, cv2.CV_32F, 0, 1)\n",
        "\n",
        "    # Calculate magnitude and angle of gradients\n",
        "    magnitude, angle = cv2.cartToPolar(gx, gy, angleInDegrees=True)\n",
        "\n",
        "    # Create histogram of gradient orientations for each cell\n",
        "    histogram = np.zeros((gray_image.shape[0] // pixels_per_cell[0],\n",
        "                          gray_image.shape[1] // pixels_per_cell[1],\n",
        "                          orientations))\n",
        "    for i in range(histogram.shape[0]):\n",
        "        for j in range(histogram.shape[1]):\n",
        "            cell_magnitude = magnitude[i*pixels_per_cell[0]:(i+1)*pixels_per_cell[0],\n",
        "                                       j*pixels_per_cell[1]:(j+1)*pixels_per_cell[1]]\n",
        "            cell_angle = angle[i*pixels_per_cell[0]:(i+1)*pixels_per_cell[0],\n",
        "                                j*pixels_per_cell[1]:(j+1)*pixels_per_cell[1]]\n",
        "            hist = np.histogram(cell_angle, bins=orientations, range=(0, 180), weights=cell_magnitude)[0]\n",
        "            histogram[i, j] = hist\n",
        "\n",
        "    # Normalize blocks of cells using L1-norm\n",
        "    normalized_blocks = np.zeros((histogram.shape[0] - cells_per_block[0] + 1,\n",
        "                                  histogram.shape[1] - cells_per_block[1] + 1,\n",
        "                                  cells_per_block[0] * cells_per_block[1] * orientations))\n",
        "    for i in range(normalized_blocks.shape[0]):\n",
        "        for j in range(normalized_blocks.shape[1]):\n",
        "            block = histogram[i:i+cells_per_block[0], j:j+cells_per_block[1], :].flatten()\n",
        "            normalized_blocks[i, j] = block / np.linalg.norm(block, ord=1)\n",
        "\n",
        "    # Flatten feature matrix and return\n",
        "    hog_features = normalized_blocks.flatten()\n",
        "    return hog_features\n",
        " \n",
        "   \n"
      ]
    },
    {
      "cell_type": "code",
      "source": [
        "# Load the dataset\n",
        "X = []  # Input images\n",
        "y = []  # Output labels\n",
        "# Path to the directories containing the benign and malignant images\n",
        "\n",
        "benign_path = \"benign\"\n",
        "malignant_path = \"malignant\"\n",
        "\n",
        "# Load the benign images and assign labels\n",
        "for filename in os.listdir(benign_path):\n",
        "    if filename.endswith(\".jpg\"):\n",
        "        image_path = os.path.join(benign_path, filename)\n",
        "        image = cv2.imread(image_path)\n",
        "        image = cv2.cvtColor(image, cv2.COLOR_BGR2RGB)\n",
        "        X.append(image)\n",
        "        y.append(0)\n",
        "\n",
        "# Load the malignant images and assign labels\n",
        "for filename in os.listdir(malignant_path):\n",
        "    if filename.endswith(\".jpg\"):\n",
        "        image_path = os.path.join(malignant_path, filename)\n",
        "        image = cv2.imread(image_path)\n",
        "        image = cv2.cvtColor(image, cv2.COLOR_BGR2RGB)\n",
        "        X.append(image)\n",
        "        y.append(1)\n",
        "\n",
        "\n",
        "\n",
        "\n",
        "\n",
        "# Split the dataset into training, validation, and testing sets\n",
        "from sklearn.model_selection import train_test_split\n",
        "X_train, X_test, y_train, y_test = train_test_split(X, y, test_size=0.2, random_state=42)\n"
      ],
      "metadata": {
        "id": "XaMHhYtJc4yN"
      },
      "execution_count": 9,
      "outputs": []
    },
    {
      "cell_type": "code",
      "source": [
        "from sklearn.svm import SVC\n",
        "import pandas as pd\n",
        "\n",
        "# Define SVM classifier\n",
        "svm = SVC(kernel='linear', probability=True)\n",
        "\n",
        "# Extract features from the training set\n",
        "X_train_features = []\n",
        "for image in X_train:\n",
        "    features = extract_features(image)\n",
        "    X_train_features.append(features)\n",
        "X_train_features = np.array(X_train_features)\n",
        "# Create a dataframe from the feature matrix and target variable\n",
        "df = pd.DataFrame(X_train_features)\n",
        "df['target'] = y_train\n",
        "\n",
        "# Drop rows with NaN values\n",
        "df.dropna(inplace=True)\n",
        "\n",
        "# Split the dataframe back into X and y arrays\n",
        "X_train_features = df.drop('target', axis=1).values\n",
        "y_train = df['target'].values\n",
        "# Train the SVM classifier\n",
        "svm.fit(X_train_features, y_train)"
      ],
      "metadata": {
        "colab": {
          "base_uri": "https://localhost:8080/",
          "height": 110
        },
        "id": "gonMoAqZc7Uq",
        "outputId": "88a220c8-9224-4db4-b2d6-ae7cae7d46e3"
      },
      "execution_count": 10,
      "outputs": [
        {
          "output_type": "stream",
          "name": "stderr",
          "text": [
            "<ipython-input-8-34a3e8ad271d>:57: RuntimeWarning: invalid value encountered in true_divide\n",
            "  normalized_blocks[i, j] = block / np.linalg.norm(block, ord=1)\n"
          ]
        },
        {
          "output_type": "execute_result",
          "data": {
            "text/plain": [
              "SVC(kernel='linear', probability=True)"
            ],
            "text/html": [
              "<style>#sk-container-id-2 {color: black;background-color: white;}#sk-container-id-2 pre{padding: 0;}#sk-container-id-2 div.sk-toggleable {background-color: white;}#sk-container-id-2 label.sk-toggleable__label {cursor: pointer;display: block;width: 100%;margin-bottom: 0;padding: 0.3em;box-sizing: border-box;text-align: center;}#sk-container-id-2 label.sk-toggleable__label-arrow:before {content: \"▸\";float: left;margin-right: 0.25em;color: #696969;}#sk-container-id-2 label.sk-toggleable__label-arrow:hover:before {color: black;}#sk-container-id-2 div.sk-estimator:hover label.sk-toggleable__label-arrow:before {color: black;}#sk-container-id-2 div.sk-toggleable__content {max-height: 0;max-width: 0;overflow: hidden;text-align: left;background-color: #f0f8ff;}#sk-container-id-2 div.sk-toggleable__content pre {margin: 0.2em;color: black;border-radius: 0.25em;background-color: #f0f8ff;}#sk-container-id-2 input.sk-toggleable__control:checked~div.sk-toggleable__content {max-height: 200px;max-width: 100%;overflow: auto;}#sk-container-id-2 input.sk-toggleable__control:checked~label.sk-toggleable__label-arrow:before {content: \"▾\";}#sk-container-id-2 div.sk-estimator input.sk-toggleable__control:checked~label.sk-toggleable__label {background-color: #d4ebff;}#sk-container-id-2 div.sk-label input.sk-toggleable__control:checked~label.sk-toggleable__label {background-color: #d4ebff;}#sk-container-id-2 input.sk-hidden--visually {border: 0;clip: rect(1px 1px 1px 1px);clip: rect(1px, 1px, 1px, 1px);height: 1px;margin: -1px;overflow: hidden;padding: 0;position: absolute;width: 1px;}#sk-container-id-2 div.sk-estimator {font-family: monospace;background-color: #f0f8ff;border: 1px dotted black;border-radius: 0.25em;box-sizing: border-box;margin-bottom: 0.5em;}#sk-container-id-2 div.sk-estimator:hover {background-color: #d4ebff;}#sk-container-id-2 div.sk-parallel-item::after {content: \"\";width: 100%;border-bottom: 1px solid gray;flex-grow: 1;}#sk-container-id-2 div.sk-label:hover label.sk-toggleable__label {background-color: #d4ebff;}#sk-container-id-2 div.sk-serial::before {content: \"\";position: absolute;border-left: 1px solid gray;box-sizing: border-box;top: 0;bottom: 0;left: 50%;z-index: 0;}#sk-container-id-2 div.sk-serial {display: flex;flex-direction: column;align-items: center;background-color: white;padding-right: 0.2em;padding-left: 0.2em;position: relative;}#sk-container-id-2 div.sk-item {position: relative;z-index: 1;}#sk-container-id-2 div.sk-parallel {display: flex;align-items: stretch;justify-content: center;background-color: white;position: relative;}#sk-container-id-2 div.sk-item::before, #sk-container-id-2 div.sk-parallel-item::before {content: \"\";position: absolute;border-left: 1px solid gray;box-sizing: border-box;top: 0;bottom: 0;left: 50%;z-index: -1;}#sk-container-id-2 div.sk-parallel-item {display: flex;flex-direction: column;z-index: 1;position: relative;background-color: white;}#sk-container-id-2 div.sk-parallel-item:first-child::after {align-self: flex-end;width: 50%;}#sk-container-id-2 div.sk-parallel-item:last-child::after {align-self: flex-start;width: 50%;}#sk-container-id-2 div.sk-parallel-item:only-child::after {width: 0;}#sk-container-id-2 div.sk-dashed-wrapped {border: 1px dashed gray;margin: 0 0.4em 0.5em 0.4em;box-sizing: border-box;padding-bottom: 0.4em;background-color: white;}#sk-container-id-2 div.sk-label label {font-family: monospace;font-weight: bold;display: inline-block;line-height: 1.2em;}#sk-container-id-2 div.sk-label-container {text-align: center;}#sk-container-id-2 div.sk-container {/* jupyter's `normalize.less` sets `[hidden] { display: none; }` but bootstrap.min.css set `[hidden] { display: none !important; }` so we also need the `!important` here to be able to override the default hidden behavior on the sphinx rendered scikit-learn.org. See: https://github.com/scikit-learn/scikit-learn/issues/21755 */display: inline-block !important;position: relative;}#sk-container-id-2 div.sk-text-repr-fallback {display: none;}</style><div id=\"sk-container-id-2\" class=\"sk-top-container\"><div class=\"sk-text-repr-fallback\"><pre>SVC(kernel=&#x27;linear&#x27;, probability=True)</pre><b>In a Jupyter environment, please rerun this cell to show the HTML representation or trust the notebook. <br />On GitHub, the HTML representation is unable to render, please try loading this page with nbviewer.org.</b></div><div class=\"sk-container\" hidden><div class=\"sk-item\"><div class=\"sk-estimator sk-toggleable\"><input class=\"sk-toggleable__control sk-hidden--visually\" id=\"sk-estimator-id-2\" type=\"checkbox\" checked><label for=\"sk-estimator-id-2\" class=\"sk-toggleable__label sk-toggleable__label-arrow\">SVC</label><div class=\"sk-toggleable__content\"><pre>SVC(kernel=&#x27;linear&#x27;, probability=True)</pre></div></div></div></div></div>"
            ]
          },
          "metadata": {},
          "execution_count": 10
        }
      ]
    },
    {
      "cell_type": "code",
      "source": [
        "# Extract features from the test set\n",
        "from sklearn.metrics import accuracy_score\n",
        "from sklearn.metrics import precision_score, recall_score, f1_score\n",
        "X_test_features = []\n",
        "for image in X_test:\n",
        "    features = extract_features(image)\n",
        "    X_test_features.append(features)\n",
        "X_test_features = np.array(X_test_features)\n",
        "\n",
        "\n",
        "\n",
        "# Create a dataframe from the feature matrix and target variable\n",
        "df = pd.DataFrame(X_test_features)\n",
        "df['target'] = y_test\n",
        "\n",
        "# Drop rows with NaN values\n",
        "df.dropna(inplace=True)\n",
        "\n",
        "# Split the dataframe back into X and y arrays\n",
        "X_test_features = df.drop('target', axis=1).values\n",
        "y_test = df['target'].values\n",
        "\n",
        "# Evaluate the SVM classifier on the test set\n",
        "accuracy = svm.score(X_test_features, y_test)\n",
        "y_pred = svm.predict(X_test_features)\n",
        "precision = precision_score(y_test, y_pred)\n",
        "recall = recall_score(y_test, y_pred)\n",
        "f1 = f1_score(y_test, y_pred)\n",
        "\n",
        "# Display the evaluation metrics\n",
        "print('Test Accuracy:', accuracy)\n",
        "print('Precision:', precision)\n",
        "print('Recall:', recall)\n",
        "print('F1 Score:', f1)"
      ],
      "metadata": {
        "colab": {
          "base_uri": "https://localhost:8080/",
          "height": 0
        },
        "id": "Lat5Czo-c9Wu",
        "outputId": "d52f7848-0bfa-4854-b5b6-f4f9eb6c0845"
      },
      "execution_count": 11,
      "outputs": [
        {
          "output_type": "stream",
          "name": "stderr",
          "text": [
            "<ipython-input-8-34a3e8ad271d>:57: RuntimeWarning: invalid value encountered in true_divide\n",
            "  normalized_blocks[i, j] = block / np.linalg.norm(block, ord=1)\n"
          ]
        },
        {
          "output_type": "stream",
          "name": "stdout",
          "text": [
            "Test Accuracy: 0.6428571428571429\n",
            "Precision: 0.5471698113207547\n",
            "Recall: 0.58\n",
            "F1 Score: 0.5631067961165048\n"
          ]
        }
      ]
    },
    {
      "cell_type": "code",
      "source": [
        "# Define function to predict the label and probability of a single image\n",
        "def predict_single_image(image):\n",
        "    # Extract HOG features from the image\n",
        "    features = extract_features(image)\n",
        "    # Reshape the features to match the shape of the training data\n",
        "    features = features.reshape(1, -1)\n",
        "    # Predict the label and probability using the trained SVM classifier\n",
        "    label = svm.predict(features)[0]\n",
        "    probability = svm.predict_proba(features)[0][label]\n",
        "    return label, probability\n",
        "\n",
        "# Load the single test image\n",
        "image_path = 'test/b1.jpg'\n",
        "image = cv2.imread(image_path)\n",
        "\n",
        "# Predict the label and probability of the test image\n",
        "if image is not None:\n",
        "    image = cv2.cvtColor(image, cv2.COLOR_BGR2RGB)\n",
        "    label, probability = predict_single_image(image)\n",
        "    if (label==0):\n",
        "      print('benign')\n",
        "    else:\n",
        "      print('malignant')\n",
        "    print('Probability:', probability)"
      ],
      "metadata": {
        "id": "2gXLICQEc91K",
        "colab": {
          "base_uri": "https://localhost:8080/",
          "height": 0
        },
        "outputId": "b1966b77-69e1-4159-fcd4-05754715f562"
      },
      "execution_count": 5,
      "outputs": [
        {
          "output_type": "stream",
          "name": "stdout",
          "text": [
            "Label: 0\n",
            "Probability: 0.5850666926548698\n"
          ]
        }
      ]
    },
    {
      "cell_type": "code",
      "source": [],
      "metadata": {
        "id": "d_0Z6YKJAWp5"
      },
      "execution_count": null,
      "outputs": []
    }
  ]
}